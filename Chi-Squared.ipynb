{
 "cells": [
  {
   "cell_type": "code",
   "execution_count": null,
   "metadata": {},
   "outputs": [],
   "source": [
    "#Data is about a table that shows the number of men and women buying different pets.\n",
    "\n",
    "#The aim of the test is to conclude whether the two variables (gender and choice of pets) are related to each other.\n",
    "\n",
    "#We start by defining the null hypothesis (H0) which states that there is no relation between the variables.\n",
    "\n",
    "#An alternate hypothesis is that there is a significant relation between gender and choic of pets"
   ]
  },
  {
   "cell_type": "code",
   "execution_count": 5,
   "metadata": {},
   "outputs": [],
   "source": [
    "from scipy.stats import chi2_contingency\n",
    "#Number of dogs ,cat and birds\n",
    "data = [[207,282,241],[234,242,232]]\n",
    "stat,p,dof,expected = chi2_contingency(data)"
   ]
  },
  {
   "cell_type": "code",
   "execution_count": 8,
   "metadata": {},
   "outputs": [
    {
     "name": "stdout",
     "output_type": "stream",
     "text": [
      "stat: 4.542228269825232\n",
      "p: 0.1031971404730939\n",
      "dof: 2\n",
      "expected: [[223.87343533 266.00834492 240.11821975]\n",
      " [217.12656467 257.99165508 232.88178025]]\n"
     ]
    }
   ],
   "source": [
    "print(\"stat:\",stat)\n",
    "print(\"p:\",p)\n",
    "print(\"dof:\",dof)\n",
    "print(\"expected:\",expected)"
   ]
  },
  {
   "cell_type": "code",
   "execution_count": 10,
   "metadata": {},
   "outputs": [
    {
     "name": "stdout",
     "output_type": "stream",
     "text": [
      "Independent:Accept Null Hypothesis(H0)\n"
     ]
    }
   ],
   "source": [
    "#Interpret p value\n",
    "alpha = 0.05\n",
    "if p<= alpha:\n",
    "    print(\"Dependent:Reject Null Hypothesis(H0)\")\n",
    "if p>alpha:\n",
    "    print(\"Independent:Accept Null Hypothesis(H0)\")\n",
    "\n",
    "    "
   ]
  },
  {
   "cell_type": "code",
   "execution_count": null,
   "metadata": {},
   "outputs": [],
   "source": [
    "#Because p value is 0.1031 is greater than 0.05 we would have to accept the null hypothese that gender and pet selection are independent"
   ]
  }
 ],
 "metadata": {
  "kernelspec": {
   "display_name": "Python 3",
   "language": "python",
   "name": "python3"
  },
  "language_info": {
   "codemirror_mode": {
    "name": "ipython",
    "version": 3
   },
   "file_extension": ".py",
   "mimetype": "text/x-python",
   "name": "python",
   "nbconvert_exporter": "python",
   "pygments_lexer": "ipython3",
   "version": "3.7.6"
  },
  "varInspector": {
   "cols": {
    "lenName": 16,
    "lenType": 16,
    "lenVar": 40
   },
   "kernels_config": {
    "python": {
     "delete_cmd_postfix": "",
     "delete_cmd_prefix": "del ",
     "library": "var_list.py",
     "varRefreshCmd": "print(var_dic_list())"
    },
    "r": {
     "delete_cmd_postfix": ") ",
     "delete_cmd_prefix": "rm(",
     "library": "var_list.r",
     "varRefreshCmd": "cat(var_dic_list()) "
    }
   },
   "types_to_exclude": [
    "module",
    "function",
    "builtin_function_or_method",
    "instance",
    "_Feature"
   ],
   "window_display": false
  }
 },
 "nbformat": 4,
 "nbformat_minor": 4
}
